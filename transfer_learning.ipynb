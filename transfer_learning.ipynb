{
 "cells": [
  {
   "cell_type": "code",
   "id": "initial_id",
   "metadata": {
    "collapsed": true,
    "ExecuteTime": {
     "end_time": "2024-05-16T00:21:41.465476Z",
     "start_time": "2024-05-16T00:21:35.392016Z"
    }
   },
   "source": [
    "import os\n",
    "import tensorflow as tf\n",
    "import numpy as np\n",
    "import matplotlib.pyplot as plt"
   ],
   "execution_count": 2,
   "outputs": []
  },
  {
   "cell_type": "code",
   "source": [
    "batch_size = 32\n",
    "img_height = 224\n",
    "img_width = 224\n",
    "data_dir = 'small_flower_dataset'\n",
    "train_ds = tf.keras.utils.image_dataset_from_directory(\n",
    "    data_dir,\n",
    "    validation_split=0.2,\n",
    "    subset=\"training\",\n",
    "    seed=123,\n",
    "    image_size=(img_height, img_width),\n",
    "    batch_size=batch_size)\n",
    "print(type(train_ds))"
   ],
   "metadata": {
    "collapsed": false,
    "ExecuteTime": {
     "end_time": "2024-05-14T01:56:35.681387Z",
     "start_time": "2024-05-14T01:56:35.309967Z"
    }
   },
   "id": "14875191f3654b78",
   "execution_count": 58,
   "outputs": []
  },
  {
   "cell_type": "code",
   "source": [
    "val_ds = tf.keras.utils.image_dataset_from_directory(\n",
    "    data_dir,\n",
    "    validation_split=0.2,\n",
    "    subset=\"validation\",\n",
    "    seed=123,\n",
    "    image_size=(img_height, img_width),\n",
    "    batch_size=batch_size)"
   ],
   "metadata": {
    "collapsed": false
   },
   "id": "92b233b73e0d7a47",
   "execution_count": null,
   "outputs": []
  },
  {
   "cell_type": "code",
   "source": [
    "for image_batch, labels_batch in train_ds:\n",
    "    print(image_batch.shape)\n",
    "    print(labels_batch.shape)\n",
    "    break"
   ],
   "metadata": {
    "collapsed": false
   },
   "id": "3ded2509005f2807",
   "execution_count": null,
   "outputs": []
  },
  {
   "cell_type": "code",
   "source": [
    "import matplotlib.pyplot as plt\n",
    "\n",
    "plt.figure(figsize=(10, 10))\n",
    "for images, labels in train_ds.take(1):\n",
    "    for i in range(9):\n",
    "        ax = plt.subplot(3, 3, i + 1)\n",
    "        plt.imshow(images[i].numpy().astype(\"uint8\"))\n",
    "        plt.title(class_names[labels[i]])\n",
    "        plt.axis(\"off\")"
   ],
   "metadata": {
    "collapsed": false
   },
   "id": "b8d16174a9fc7b35",
   "execution_count": null,
   "outputs": []
  },
  {
   "cell_type": "code",
   "source": [
    "AUTOTUNE = tf.data.AUTOTUNE\n",
    "\n",
    "train_ds = train_ds.cache().prefetch(buffer_size=AUTOTUNE)\n",
    "val_ds = val_ds.cache().prefetch(buffer_size=AUTOTUNE)"
   ],
   "metadata": {
    "collapsed": false
   },
   "id": "38b318221ba0920b",
   "execution_count": null,
   "outputs": []
  },
  {
   "cell_type": "code",
   "source": [
    "img_height = 224\n",
    "img_width = 224\n",
    "data_dir = 'small_flower_dataset'\n",
    "class_names = [0, 1, 2, 3, 4]\n",
    "data = tf.keras.utils.image_dataset_from_directory(\n",
    "    data_dir,\n",
    "    seed=123,\n",
    "    image_size=(img_height, img_width),\n",
    "    label_mode=\"int\")\n",
    "data = data.as_numpy_iterator().next()\n",
    "images, labels = data"
   ],
   "metadata": {
    "collapsed": false,
    "ExecuteTime": {
     "end_time": "2024-05-14T02:15:30.734235Z",
     "start_time": "2024-05-14T02:15:30.443574Z"
    }
   },
   "id": "d44674103a557754",
   "execution_count": 88,
   "outputs": []
  },
  {
   "cell_type": "code",
   "source": [
    "from imutils import paths\n",
    "from keras.src.utils import img_to_array\n",
    "import random\n",
    "import cv2\n",
    "import matplotlib.pyplot as plt\n",
    "\n",
    "\n",
    "#class_to_int = {'daisy': 0, 'dandelion': 1, 'roses': 2, 'sunflowers': 3, 'tulips': 4}\n",
    "#imagePaths = sorted(list(paths.list_images(\"small_flower_dataset\")))\n",
    "class_to_int = {}\n",
    "classes = sorted(os.listdir('small_flower_dataset'))\n",
    "for i, class_name in enumerate(classes):\n",
    "        class_to_int[class_name] = i\n",
    "print(class_to_int)\n",
    "imagePaths = sorted(list(paths.list_images('small_flower_dataset')))\n",
    "# random shuffle\n",
    "random.seed(42)\n",
    "random.shuffle(imagePaths)\n",
    "combined = []\n",
    "image_dims = (224, 224, 3)\n",
    "\n",
    "#for imagePath in imagePaths:\n",
    "#        image = cv2.imread(imagePath)\n",
    "#        image = cv2.resize(image, (image_dims[1], image_dims[0]))\n",
    "#        image = img_to_array(image)\n",
    "#        label = imagePath.split(os.path.sep)[-2]\n",
    "#        int_label = class_to_int[label]\n",
    "#        combined.append(np.append(image, int_label))  # Append flattened image data and label\n",
    "\n",
    "#combined = np.array(combined)\n",
    "#combined[:,:-1] = combined[:,:-1] / 255.0 \n",
    "#print(combined)\n",
    "\n",
    "data = []\n",
    "labels = []\n",
    "image_dims = (224, 224, 3) \n",
    "for imagePath in imagePaths:\n",
    "        image = cv2.imread(imagePath)\n",
    "        image = cv2.resize(image, (image_dims[1], image_dims[0]))\n",
    "        image = img_to_array(image)\n",
    "        data.append(image)\n",
    "        label = imagePath.split(os.path.sep)[-2]\n",
    "        int_label = class_to_int[label]\n",
    "        labels.append(int_label)\n",
    "data = np.array(data, dtype=\"float\") / 255.0\n",
    "labels = np.array(labels)\n",
    "\n",
    "def combine_data_labels(data, labels):\n",
    "    \n",
    "    num_samples = data.shape[0]\n",
    "    labels = labels.reshape(num_samples, 1)  # Reshape labels to match data shape\n",
    "    combined_array = np.concatenate((data, labels), axis=3)\n",
    "    return combined_array\n",
    "combined = combine_data_labels(data, labels)\n",
    "\n",
    "def split_combined_numpy(combined_array):\n",
    "    data = combined_array[:, :, :, :-1]  # Exclude the last channel containing labels\n",
    "    labels = combined_array[:, :, :, -1].flatten()  # Extract labels from the last channel\n",
    "    return data, labels\n",
    "\n",
    "data, labels = split_combined_numpy(combined)\n",
    "# Display the images and labels\n",
    "plt.figure(figsize=(10, 10))\n",
    "for i in range(9):  # Display the first 9 images\n",
    "        plt.subplot(3, 3, i + 1)\n",
    "        plt.imshow(data[i])\n",
    "        plt.title(f'Label: {labels[i]}')\n",
    "        plt.axis('off')\n",
    "\n",
    "plt.show()"
   ],
   "metadata": {
    "collapsed": false,
    "ExecuteTime": {
     "end_time": "2024-05-16T01:49:24.224642Z",
     "start_time": "2024-05-16T01:49:18.949431Z"
    }
   },
   "id": "2b2052101fe52508",
   "execution_count": 51,
   "outputs": []
  },
  {
   "metadata": {
    "ExecuteTime": {
     "end_time": "2024-05-16T01:40:24.984923Z",
     "start_time": "2024-05-16T01:40:22.966763Z"
    }
   },
   "cell_type": "code",
   "source": [
    "data = []\n",
    "labels = []\n",
    "\n",
    "for row in combined:\n",
    "        image = row[:-1].reshape(image_dims)  # Reshape flattened image data to original shape\n",
    "        int_label = int(row[-1])\n",
    "        labels.append(int_label)\n",
    "        data.append(image)\n",
    "\n",
    "data = np.array(data, dtype=\"float\") / 255.0\n",
    "labels = np.array(labels)\n"
   ],
   "id": "8dd81b4173fd472",
   "execution_count": 48,
   "outputs": []
  },
  {
   "cell_type": "code",
   "source": [
    "randomize = False\n",
    "X = data\n",
    "Y = labels\n",
    "num_samples = len(X)\n",
    "train_samples = int(num_samples * 0.8)\n",
    "test_samples = int(num_samples * 0.1)\n",
    "eval_samples = num_samples - train_samples - test_samples\n",
    "\n",
    "\n",
    "if randomize:\n",
    "    indices = np.random.permutation(num_samples)\n",
    "    X = X[indices]\n",
    "    Y = Y[indices]\n",
    "\n",
    "train_X = X[:train_samples]\n",
    "train_Y = Y[:train_samples]\n",
    "test_X = X[train_samples:train_samples + test_samples]\n",
    "test_Y = Y[train_samples:train_samples + test_samples]\n",
    "eval_X = X[train_samples + test_samples:]\n",
    "eval_Y = Y[train_samples + test_samples:]\n",
    "\n",
    "train = (train_X, train_Y)\n",
    "test = (test_X, test_Y)\n",
    "eval = (eval_X, eval_Y)"
   ],
   "metadata": {
    "collapsed": false,
    "ExecuteTime": {
     "end_time": "2024-05-16T00:44:08.574478Z",
     "start_time": "2024-05-16T00:44:08.560056Z"
    }
   },
   "id": "c72ae08fa7b0ed92",
   "execution_count": 28,
   "outputs": []
  },
  {
   "cell_type": "code",
   "source": [
    "normalization_layer = tf.keras.layers.Rescaling(1. / 255)"
   ],
   "metadata": {
    "collapsed": false,
    "ExecuteTime": {
     "end_time": "2024-05-16T00:44:10.777842Z",
     "start_time": "2024-05-16T00:44:10.725421Z"
    }
   },
   "id": "2e24733123dd3ed8",
   "execution_count": 29,
   "outputs": []
  },
  {
   "cell_type": "code",
   "source": [
    "num_classes = 5\n",
    "base_model = tf.keras.applications.MobileNetV2(include_top=False, input_shape=(224, 224, 3))\n",
    "# Freeze the layers of the base model\n",
    "base_model.trainable = False\n",
    "\n",
    "# Add new output layer\n",
    "x = base_model.output\n",
    "x = tf.keras.layers.GlobalAveragePooling2D()(x)\n",
    "output = tf.keras.layers.Dense(num_classes, activation='softmax')(x)\n",
    "\n",
    "model = tf.keras.Model(inputs=base_model.input, outputs=output)\n",
    "#model.summary()"
   ],
   "metadata": {
    "collapsed": false,
    "ExecuteTime": {
     "end_time": "2024-05-16T00:44:15.454377Z",
     "start_time": "2024-05-16T00:44:11.751317Z"
    }
   },
   "id": "6480901ba78ca98c",
   "execution_count": 30,
   "outputs": []
  },
  {
   "cell_type": "code",
   "source": [
    "import keras\n",
    "\n",
    "optimizer = tf.keras.optimizers.SGD(\n",
    "    learning_rate=0.01,\n",
    "    momentum=0.0,\n",
    "    nesterov=False\n",
    ")\n",
    "metrics = [keras.metrics.BinaryAccuracy(),\n",
    "               keras.metrics.FalseNegatives()]\n",
    "model.compile(\n",
    "    optimizer=optimizer,\n",
    "    loss=tf.keras.losses.SparseCategoricalCrossentropy(),\n",
    "    metrics=['accuracy'])"
   ],
   "metadata": {
    "collapsed": false,
    "ExecuteTime": {
     "end_time": "2024-05-16T00:44:17.360153Z",
     "start_time": "2024-05-16T00:44:17.326102Z"
    }
   },
   "id": "867b292eb4cd36cf",
   "execution_count": 31,
   "outputs": []
  },
  {
   "cell_type": "code",
   "source": [
    "history = model.fit(\n",
    "    x=train[0],\n",
    "    y=train[1],\n",
    "    validation_data=eval,\n",
    "    epochs=30\n",
    ")"
   ],
   "metadata": {
    "collapsed": false,
    "ExecuteTime": {
     "end_time": "2024-05-16T00:45:15.709818Z",
     "start_time": "2024-05-16T00:44:19.817783Z"
    }
   },
   "id": "32949b9ba982f8a",
   "execution_count": 32,
   "outputs": []
  },
  {
   "cell_type": "code",
   "source": [
    "#print(model.history.keys())\n",
    "# summarize history for accuracy\n",
    "plt.plot(history.history['accuracy'])\n",
    "plt.plot(history.history['val_accuracy'])\n",
    "plt.title('model accuracy')\n",
    "plt.ylabel('accuracy')\n",
    "plt.xlabel('epoch')\n",
    "plt.legend(['train', 'test'], loc='upper left')\n",
    "plt.show()\n",
    "# summarize history for loss\n",
    "plt.plot(history.history['loss'])\n",
    "plt.plot(history.history['val_loss'])\n",
    "plt.title('model loss')\n",
    "plt.ylabel('loss')\n",
    "plt.xlabel('epoch')\n",
    "plt.legend(['train', 'test'], loc='upper left')\n",
    "plt.show()"
   ],
   "metadata": {
    "collapsed": false,
    "ExecuteTime": {
     "end_time": "2024-05-14T12:54:07.939506Z",
     "start_time": "2024-05-14T12:54:06.662622Z"
    }
   },
   "id": "40b7bc2f172eefcc",
   "execution_count": 10,
   "outputs": []
  },
  {
   "cell_type": "code",
   "source": [],
   "metadata": {
    "collapsed": false
   },
   "id": "83ed21fa2673f437",
   "execution_count": null,
   "outputs": []
  }
 ],
 "metadata": {
  "kernelspec": {
   "display_name": "Python 3",
   "language": "python",
   "name": "python3"
  },
  "language_info": {
   "codemirror_mode": {
    "name": "ipython",
    "version": 2
   },
   "file_extension": ".py",
   "mimetype": "text/x-python",
   "name": "python",
   "nbconvert_exporter": "python",
   "pygments_lexer": "ipython2",
   "version": "2.7.6"
  }
 },
 "nbformat": 4,
 "nbformat_minor": 5
}
