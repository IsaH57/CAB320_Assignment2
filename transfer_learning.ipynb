{
 "cells": [
  {
   "cell_type": "code",
   "execution_count": 3,
   "id": "initial_id",
   "metadata": {
    "collapsed": true,
    "ExecuteTime": {
     "end_time": "2024-05-13T22:36:45.453785Z",
     "start_time": "2024-05-13T22:36:43.323812Z"
    }
   },
   "outputs": [],
   "source": [
    "import os\n",
    "import tensorflow as tf\n",
    "import numpy as np\n",
    "import matplotlib.pyplot as plt"
   ]
  },
  {
   "cell_type": "code",
   "outputs": [
    {
     "name": "stdout",
     "output_type": "stream",
     "text": [
      "Found 1000 files belonging to 5 classes.\n",
      "Using 800 files for training.\n",
      "<class 'tensorflow.python.data.ops.prefetch_op._PrefetchDataset'>\n"
     ]
    }
   ],
   "source": [
    "batch_size = 32\n",
    "img_height = 224\n",
    "img_width = 224\n",
    "data_dir = 'small_flower_dataset'\n",
    "train_ds = tf.keras.utils.image_dataset_from_directory(\n",
    "    data_dir,\n",
    "    validation_split=0.2,\n",
    "    subset=\"training\",\n",
    "    seed=123,\n",
    "    image_size=(img_height, img_width),\n",
    "    batch_size=batch_size)\n",
    "print(type(train_ds))"
   ],
   "metadata": {
    "collapsed": false,
    "ExecuteTime": {
     "end_time": "2024-05-14T01:56:35.681387Z",
     "start_time": "2024-05-14T01:56:35.309967Z"
    }
   },
   "id": "14875191f3654b78",
   "execution_count": 58
  },
  {
   "cell_type": "code",
   "outputs": [],
   "source": [
    "val_ds = tf.keras.utils.image_dataset_from_directory(\n",
    "    data_dir,\n",
    "    validation_split=0.2,\n",
    "    subset=\"validation\",\n",
    "    seed=123,\n",
    "    image_size=(img_height, img_width),\n",
    "    batch_size=batch_size)"
   ],
   "metadata": {
    "collapsed": false
   },
   "id": "92b233b73e0d7a47"
  },
  {
   "cell_type": "code",
   "outputs": [],
   "source": [
    "for image_batch, labels_batch in train_ds:\n",
    "    print(image_batch.shape)\n",
    "    print(labels_batch.shape)\n",
    "    break"
   ],
   "metadata": {
    "collapsed": false
   },
   "id": "3ded2509005f2807"
  },
  {
   "cell_type": "code",
   "outputs": [],
   "source": [
    "import matplotlib.pyplot as plt\n",
    "\n",
    "plt.figure(figsize=(10, 10))\n",
    "for images, labels in train_ds.take(1):\n",
    "    for i in range(9):\n",
    "        ax = plt.subplot(3, 3, i + 1)\n",
    "        plt.imshow(images[i].numpy().astype(\"uint8\"))\n",
    "        plt.title(class_names[labels[i]])\n",
    "        plt.axis(\"off\")"
   ],
   "metadata": {
    "collapsed": false
   },
   "id": "b8d16174a9fc7b35"
  },
  {
   "cell_type": "code",
   "outputs": [],
   "source": [
    "AUTOTUNE = tf.data.AUTOTUNE\n",
    "\n",
    "train_ds = train_ds.cache().prefetch(buffer_size=AUTOTUNE)\n",
    "val_ds = val_ds.cache().prefetch(buffer_size=AUTOTUNE)"
   ],
   "metadata": {
    "collapsed": false
   },
   "id": "38b318221ba0920b"
  },
  {
   "cell_type": "code",
   "outputs": [
    {
     "name": "stdout",
     "output_type": "stream",
     "text": [
      "Found 1000 files belonging to 5 classes.\n"
     ]
    }
   ],
   "source": [
    "img_height = 224\n",
    "img_width = 224\n",
    "data_dir = 'small_flower_dataset'\n",
    "class_names = [0, 1, 2, 3, 4]\n",
    "data = tf.keras.utils.image_dataset_from_directory(\n",
    "    data_dir,\n",
    "    seed=123,\n",
    "    image_size=(img_height, img_width),\n",
    "    label_mode=\"int\")\n",
    "data = data.as_numpy_iterator().next()\n",
    "images, labels = data"
   ],
   "metadata": {
    "collapsed": false,
    "ExecuteTime": {
     "end_time": "2024-05-14T02:15:30.734235Z",
     "start_time": "2024-05-14T02:15:30.443574Z"
    }
   },
   "id": "d44674103a557754",
   "execution_count": 88
  },
  {
   "cell_type": "code",
   "outputs": [
    {
     "ename": "error",
     "evalue": "OpenCV(4.9.0) D:\\a\\opencv-python\\opencv-python\\opencv\\modules\\imgproc\\src\\resize.cpp:4152: error: (-215:Assertion failed) !ssize.empty() in function 'cv::resize'\n",
     "output_type": "error",
     "traceback": [
      "\u001B[1;31m---------------------------------------------------------------------------\u001B[0m",
      "\u001B[1;31merror\u001B[0m                                     Traceback (most recent call last)",
      "Cell \u001B[1;32mIn[132], line 25\u001B[0m\n\u001B[0;32m     23\u001B[0m \u001B[38;5;28;01mfor\u001B[39;00m imagePath \u001B[38;5;129;01min\u001B[39;00m imagePath:\n\u001B[0;32m     24\u001B[0m     image \u001B[38;5;241m=\u001B[39m cv2\u001B[38;5;241m.\u001B[39mimread(imagePath)\n\u001B[1;32m---> 25\u001B[0m     image \u001B[38;5;241m=\u001B[39m \u001B[43mcv2\u001B[49m\u001B[38;5;241;43m.\u001B[39;49m\u001B[43mresize\u001B[49m\u001B[43m(\u001B[49m\u001B[43mimage\u001B[49m\u001B[43m,\u001B[49m\u001B[43m \u001B[49m\u001B[43m(\u001B[49m\u001B[43mimage_dims\u001B[49m\u001B[43m[\u001B[49m\u001B[38;5;241;43m1\u001B[39;49m\u001B[43m]\u001B[49m\u001B[43m,\u001B[49m\u001B[43m \u001B[49m\u001B[43mimage_dims\u001B[49m\u001B[43m[\u001B[49m\u001B[38;5;241;43m0\u001B[39;49m\u001B[43m]\u001B[49m\u001B[43m)\u001B[49m\u001B[43m)\u001B[49m\n\u001B[0;32m     26\u001B[0m     image \u001B[38;5;241m=\u001B[39m img_to_array(image)\n\u001B[0;32m     27\u001B[0m     data\u001B[38;5;241m.\u001B[39mappend(image)\n",
      "\u001B[1;31merror\u001B[0m: OpenCV(4.9.0) D:\\a\\opencv-python\\opencv-python\\opencv\\modules\\imgproc\\src\\resize.cpp:4152: error: (-215:Assertion failed) !ssize.empty() in function 'cv::resize'\n"
     ]
    }
   ],
   "source": [
    "from imutils import paths\n",
    "from keras.src.utils import img_to_array\n",
    "import random\n",
    "import cv2\n",
    "\n",
    "class_to_int = {'daisy': 0, 'dandelion': 1, 'roses': 2, 'sunflowers': 3, 'tulips': 4}\n",
    "imagePaths = sorted(list(paths.list_images(\"small_flower_dataset\")))\n",
    "\n",
    "\n",
    "# random shuffle\n",
    "random.seed(42)\n",
    "random.shuffle(imagePaths)\n",
    "data = []\n",
    "labels = []\n",
    "image_dims = (224, 224, 3)\n",
    "\n",
    "for imagePath in imagePaths:\n",
    "    image = cv2.imread(imagePath)\n",
    "    image = cv2.resize(image, (image_dims[1], image_dims[0]))\n",
    "    image = img_to_array(image)\n",
    "    data.append(image)\n",
    "    label = imagePath.split(os.path.sep)[-2]\n",
    "    int_label = class_to_int[label]\n",
    "    print(int_label)\n",
    "    labels.append(int_label)\n",
    "\n",
    "data = np.array(data, dtype=\"float\") / 255.0\n",
    "labels = np.array(labels)\n",
    "#print(\"{} images ({:.2f}MB)\".format(len(imagePaths), data.nbytes / (1024 * 1000.0)))\n"
   ],
   "metadata": {
    "collapsed": false,
    "ExecuteTime": {
     "end_time": "2024-05-14T04:01:52.706745Z",
     "start_time": "2024-05-14T04:01:52.637410Z"
    }
   },
   "id": "2b2052101fe52508",
   "execution_count": 132
  },
  {
   "cell_type": "code",
   "outputs": [],
   "source": [
    "randomize = False\n",
    "X = data\n",
    "Y = labels\n",
    "num_samples = len(X)\n",
    "train_samples = int(num_samples * 0.8)\n",
    "test_samples = int(num_samples * 0.1)\n",
    "eval_samples = num_samples - train_samples - test_samples\n",
    "\n",
    "\n",
    "if randomize:\n",
    "    indices = np.random.permutation(num_samples)\n",
    "    X = X[indices]\n",
    "    Y = Y[indices]\n",
    "\n",
    "train_X = X[:train_samples]\n",
    "train_Y = Y[:train_samples]\n",
    "test_X = X[train_samples:train_samples + test_samples]\n",
    "test_Y = Y[train_samples:train_samples + test_samples]\n",
    "eval_X = X[train_samples + test_samples:]\n",
    "eval_Y = Y[train_samples + test_samples:]\n",
    "\n",
    "train = (train_X, train_Y)\n",
    "test = (test_X, test_Y)\n",
    "eval = (eval_X, eval_Y)"
   ],
   "metadata": {
    "collapsed": false,
    "ExecuteTime": {
     "end_time": "2024-05-14T03:17:59.820640Z",
     "start_time": "2024-05-14T03:17:59.771958Z"
    }
   },
   "id": "c72ae08fa7b0ed92",
   "execution_count": 118
  },
  {
   "cell_type": "code",
   "outputs": [],
   "source": [
    "normalization_layer = tf.keras.layers.Rescaling(1. / 255)"
   ],
   "metadata": {
    "collapsed": false,
    "ExecuteTime": {
     "end_time": "2024-05-14T03:18:04.726999Z",
     "start_time": "2024-05-14T03:18:04.693872Z"
    }
   },
   "id": "2e24733123dd3ed8",
   "execution_count": 119
  },
  {
   "cell_type": "code",
   "outputs": [],
   "source": [
    "num_classes = 5\n",
    "base_model = tf.keras.applications.MobileNetV2(include_top=False, input_shape=(224, 224, 3))\n",
    "# Freeze the layers of the base model\n",
    "base_model.trainable = False\n",
    "\n",
    "# Add new output layer\n",
    "x = base_model.output\n",
    "x = tf.keras.layers.GlobalAveragePooling2D()(x)\n",
    "output = tf.keras.layers.Dense(num_classes, activation='softmax')(x)\n",
    "\n",
    "model = tf.keras.Model(inputs=base_model.input, outputs=output)\n",
    "#model.summary()"
   ],
   "metadata": {
    "collapsed": false,
    "ExecuteTime": {
     "end_time": "2024-05-14T03:18:10.065961Z",
     "start_time": "2024-05-14T03:18:08.244420Z"
    }
   },
   "id": "6480901ba78ca98c",
   "execution_count": 120
  },
  {
   "cell_type": "code",
   "outputs": [],
   "source": [
    "import keras\n",
    "\n",
    "optimizer = tf.keras.optimizers.SGD(\n",
    "    learning_rate=0.01,\n",
    "    momentum=0.0,\n",
    "    nesterov=False\n",
    ")\n",
    "metrics = [keras.metrics.BinaryAccuracy(),\n",
    "               keras.metrics.FalseNegatives()]\n",
    "model.compile(\n",
    "    optimizer=optimizer,\n",
    "    loss=tf.keras.losses.SparseCategoricalCrossentropy(),\n",
    "    metrics=['accuracy'])"
   ],
   "metadata": {
    "collapsed": false,
    "ExecuteTime": {
     "end_time": "2024-05-14T03:37:42.305929Z",
     "start_time": "2024-05-14T03:37:42.281992Z"
    }
   },
   "id": "867b292eb4cd36cf",
   "execution_count": 126
  },
  {
   "cell_type": "code",
   "outputs": [
    {
     "name": "stdout",
     "output_type": "stream",
     "text": [
      "Epoch 1/30\n",
      "\u001B[1m25/25\u001B[0m \u001B[32m━━━━━━━━━━━━━━━━━━━━\u001B[0m\u001B[37m\u001B[0m \u001B[1m26s\u001B[0m 833ms/step - accuracy: 0.9858 - loss: 0.1460 - val_accuracy: 0.8700 - val_loss: 0.4374\n",
      "Epoch 2/30\n",
      "\u001B[1m25/25\u001B[0m \u001B[32m━━━━━━━━━━━━━━━━━━━━\u001B[0m\u001B[37m\u001B[0m \u001B[1m15s\u001B[0m 596ms/step - accuracy: 0.9831 - loss: 0.1437 - val_accuracy: 0.8700 - val_loss: 0.4387\n",
      "Epoch 3/30\n",
      "\u001B[1m25/25\u001B[0m \u001B[32m━━━━━━━━━━━━━━━━━━━━\u001B[0m\u001B[37m\u001B[0m \u001B[1m14s\u001B[0m 549ms/step - accuracy: 0.9796 - loss: 0.1541 - val_accuracy: 0.8500 - val_loss: 0.4466\n",
      "Epoch 4/30\n",
      "\u001B[1m25/25\u001B[0m \u001B[32m━━━━━━━━━━━━━━━━━━━━\u001B[0m\u001B[37m\u001B[0m \u001B[1m13s\u001B[0m 528ms/step - accuracy: 0.9821 - loss: 0.1504 - val_accuracy: 0.8600 - val_loss: 0.4335\n",
      "Epoch 5/30\n",
      "\u001B[1m25/25\u001B[0m \u001B[32m━━━━━━━━━━━━━━━━━━━━\u001B[0m\u001B[37m\u001B[0m \u001B[1m14s\u001B[0m 545ms/step - accuracy: 0.9903 - loss: 0.1385 - val_accuracy: 0.8700 - val_loss: 0.4343\n",
      "Epoch 6/30\n",
      "\u001B[1m25/25\u001B[0m \u001B[32m━━━━━━━━━━━━━━━━━━━━\u001B[0m\u001B[37m\u001B[0m \u001B[1m14s\u001B[0m 551ms/step - accuracy: 0.9847 - loss: 0.1434 - val_accuracy: 0.8600 - val_loss: 0.4407\n",
      "Epoch 7/30\n",
      "\u001B[1m25/25\u001B[0m \u001B[32m━━━━━━━━━━━━━━━━━━━━\u001B[0m\u001B[37m\u001B[0m \u001B[1m13s\u001B[0m 522ms/step - accuracy: 0.9925 - loss: 0.1332 - val_accuracy: 0.8700 - val_loss: 0.4302\n",
      "Epoch 8/30\n",
      "\u001B[1m25/25\u001B[0m \u001B[32m━━━━━━━━━━━━━━━━━━━━\u001B[0m\u001B[37m\u001B[0m \u001B[1m14s\u001B[0m 545ms/step - accuracy: 0.9897 - loss: 0.1317 - val_accuracy: 0.8600 - val_loss: 0.4300\n",
      "Epoch 9/30\n",
      "\u001B[1m25/25\u001B[0m \u001B[32m━━━━━━━━━━━━━━━━━━━━\u001B[0m\u001B[37m\u001B[0m \u001B[1m13s\u001B[0m 531ms/step - accuracy: 0.9922 - loss: 0.1305 - val_accuracy: 0.8600 - val_loss: 0.4389\n",
      "Epoch 10/30\n",
      "\u001B[1m25/25\u001B[0m \u001B[32m━━━━━━━━━━━━━━━━━━━━\u001B[0m\u001B[37m\u001B[0m \u001B[1m14s\u001B[0m 548ms/step - accuracy: 0.9880 - loss: 0.1240 - val_accuracy: 0.8500 - val_loss: 0.4353\n",
      "Epoch 11/30\n",
      "\u001B[1m25/25\u001B[0m \u001B[32m━━━━━━━━━━━━━━━━━━━━\u001B[0m\u001B[37m\u001B[0m \u001B[1m13s\u001B[0m 537ms/step - accuracy: 0.9959 - loss: 0.1215 - val_accuracy: 0.8500 - val_loss: 0.4319\n",
      "Epoch 12/30\n",
      "\u001B[1m25/25\u001B[0m \u001B[32m━━━━━━━━━━━━━━━━━━━━\u001B[0m\u001B[37m\u001B[0m \u001B[1m16s\u001B[0m 651ms/step - accuracy: 0.9981 - loss: 0.1150 - val_accuracy: 0.8600 - val_loss: 0.4263\n",
      "Epoch 13/30\n",
      "\u001B[1m25/25\u001B[0m \u001B[32m━━━━━━━━━━━━━━━━━━━━\u001B[0m\u001B[37m\u001B[0m \u001B[1m13s\u001B[0m 524ms/step - accuracy: 0.9966 - loss: 0.1201 - val_accuracy: 0.8700 - val_loss: 0.4325\n",
      "Epoch 14/30\n",
      "\u001B[1m25/25\u001B[0m \u001B[32m━━━━━━━━━━━━━━━━━━━━\u001B[0m\u001B[37m\u001B[0m \u001B[1m14s\u001B[0m 561ms/step - accuracy: 0.9946 - loss: 0.1117 - val_accuracy: 0.8600 - val_loss: 0.4312\n",
      "Epoch 15/30\n",
      "\u001B[1m25/25\u001B[0m \u001B[32m━━━━━━━━━━━━━━━━━━━━\u001B[0m\u001B[37m\u001B[0m \u001B[1m13s\u001B[0m 525ms/step - accuracy: 0.9991 - loss: 0.1092 - val_accuracy: 0.8600 - val_loss: 0.4293\n",
      "Epoch 16/30\n",
      "\u001B[1m25/25\u001B[0m \u001B[32m━━━━━━━━━━━━━━━━━━━━\u001B[0m\u001B[37m\u001B[0m \u001B[1m13s\u001B[0m 520ms/step - accuracy: 0.9966 - loss: 0.1174 - val_accuracy: 0.8500 - val_loss: 0.4339\n",
      "Epoch 17/30\n",
      "\u001B[1m25/25\u001B[0m \u001B[32m━━━━━━━━━━━━━━━━━━━━\u001B[0m\u001B[37m\u001B[0m \u001B[1m13s\u001B[0m 536ms/step - accuracy: 1.0000 - loss: 0.1051 - val_accuracy: 0.8400 - val_loss: 0.4391\n",
      "Epoch 18/30\n",
      "\u001B[1m25/25\u001B[0m \u001B[32m━━━━━━━━━━━━━━━━━━━━\u001B[0m\u001B[37m\u001B[0m \u001B[1m13s\u001B[0m 527ms/step - accuracy: 1.0000 - loss: 0.1053 - val_accuracy: 0.8600 - val_loss: 0.4276\n",
      "Epoch 19/30\n",
      "\u001B[1m25/25\u001B[0m \u001B[32m━━━━━━━━━━━━━━━━━━━━\u001B[0m\u001B[37m\u001B[0m \u001B[1m13s\u001B[0m 527ms/step - accuracy: 1.0000 - loss: 0.1038 - val_accuracy: 0.8600 - val_loss: 0.4298\n",
      "Epoch 20/30\n",
      "\u001B[1m25/25\u001B[0m \u001B[32m━━━━━━━━━━━━━━━━━━━━\u001B[0m\u001B[37m\u001B[0m \u001B[1m13s\u001B[0m 523ms/step - accuracy: 0.9993 - loss: 0.1005 - val_accuracy: 0.8400 - val_loss: 0.4299\n",
      "Epoch 21/30\n",
      "\u001B[1m25/25\u001B[0m \u001B[32m━━━━━━━━━━━━━━━━━━━━\u001B[0m\u001B[37m\u001B[0m \u001B[1m13s\u001B[0m 522ms/step - accuracy: 1.0000 - loss: 0.1076 - val_accuracy: 0.8400 - val_loss: 0.4268\n",
      "Epoch 22/30\n",
      "\u001B[1m25/25\u001B[0m \u001B[32m━━━━━━━━━━━━━━━━━━━━\u001B[0m\u001B[37m\u001B[0m \u001B[1m13s\u001B[0m 527ms/step - accuracy: 0.9966 - loss: 0.1032 - val_accuracy: 0.8400 - val_loss: 0.4365\n",
      "Epoch 23/30\n",
      "\u001B[1m25/25\u001B[0m \u001B[32m━━━━━━━━━━━━━━━━━━━━\u001B[0m\u001B[37m\u001B[0m \u001B[1m13s\u001B[0m 523ms/step - accuracy: 0.9991 - loss: 0.0977 - val_accuracy: 0.8400 - val_loss: 0.4237\n",
      "Epoch 24/30\n",
      "\u001B[1m25/25\u001B[0m \u001B[32m━━━━━━━━━━━━━━━━━━━━\u001B[0m\u001B[37m\u001B[0m \u001B[1m17s\u001B[0m 695ms/step - accuracy: 0.9986 - loss: 0.0956 - val_accuracy: 0.8600 - val_loss: 0.4247\n",
      "Epoch 25/30\n",
      "\u001B[1m25/25\u001B[0m \u001B[32m━━━━━━━━━━━━━━━━━━━━\u001B[0m\u001B[37m\u001B[0m \u001B[1m18s\u001B[0m 707ms/step - accuracy: 1.0000 - loss: 0.0894 - val_accuracy: 0.8600 - val_loss: 0.4292\n",
      "Epoch 26/30\n",
      "\u001B[1m25/25\u001B[0m \u001B[32m━━━━━━━━━━━━━━━━━━━━\u001B[0m\u001B[37m\u001B[0m \u001B[1m15s\u001B[0m 616ms/step - accuracy: 1.0000 - loss: 0.0898 - val_accuracy: 0.8500 - val_loss: 0.4243\n",
      "Epoch 27/30\n",
      "\u001B[1m25/25\u001B[0m \u001B[32m━━━━━━━━━━━━━━━━━━━━\u001B[0m\u001B[37m\u001B[0m \u001B[1m19s\u001B[0m 752ms/step - accuracy: 1.0000 - loss: 0.0886 - val_accuracy: 0.8400 - val_loss: 0.4285\n",
      "Epoch 28/30\n",
      "\u001B[1m25/25\u001B[0m \u001B[32m━━━━━━━━━━━━━━━━━━━━\u001B[0m\u001B[37m\u001B[0m \u001B[1m17s\u001B[0m 678ms/step - accuracy: 1.0000 - loss: 0.0851 - val_accuracy: 0.8400 - val_loss: 0.4240\n",
      "Epoch 29/30\n",
      "\u001B[1m25/25\u001B[0m \u001B[32m━━━━━━━━━━━━━━━━━━━━\u001B[0m\u001B[37m\u001B[0m \u001B[1m24s\u001B[0m 953ms/step - accuracy: 1.0000 - loss: 0.0880 - val_accuracy: 0.8600 - val_loss: 0.4242\n",
      "Epoch 30/30\n",
      "\u001B[1m25/25\u001B[0m \u001B[32m━━━━━━━━━━━━━━━━━━━━\u001B[0m\u001B[37m\u001B[0m \u001B[1m19s\u001B[0m 756ms/step - accuracy: 1.0000 - loss: 0.0848 - val_accuracy: 0.8400 - val_loss: 0.4266\n"
     ]
    }
   ],
   "source": [
    "history = model.fit(\n",
    "    x=train[0],\n",
    "    y=train[1],\n",
    "    validation_data=eval,\n",
    "    epochs=30\n",
    ")"
   ],
   "metadata": {
    "collapsed": false,
    "ExecuteTime": {
     "end_time": "2024-05-14T03:45:19.608709Z",
     "start_time": "2024-05-14T03:37:44.527924Z"
    }
   },
   "id": "32949b9ba982f8a",
   "execution_count": 127
  },
  {
   "cell_type": "code",
   "outputs": [
    {
     "name": "stdout",
     "output_type": "stream",
     "text": [
      "dict_keys(['accuracy', 'loss', 'val_accuracy', 'val_loss'])\n"
     ]
    },
    {
     "data": {
      "text/plain": "<Figure size 640x480 with 1 Axes>",
      "image/png": "[encoded data removed]"
     },
     "metadata": {},
     "output_type": "display_data"
    },
    {
     "data": {
      "text/plain": "<Figure size 640x480 with 1 Axes>",
      "image/png": "[encoded data removed]"
     },
     "metadata": {},
     "output_type": "display_data"
    }
   ],
   "source": [
    "print(history.history.keys())\n",
    "# summarize history for accuracy\n",
    "plt.plot(history.history['accuracy'])\n",
    "plt.plot(history.history['val_accuracy'])\n",
    "plt.title('model accuracy')\n",
    "plt.ylabel('accuracy')\n",
    "plt.xlabel('epoch')\n",
    "plt.legend(['train', 'test'], loc='upper left')\n",
    "plt.show()\n",
    "# summarize history for loss\n",
    "plt.plot(history.history['loss'])\n",
    "plt.plot(history.history['val_loss'])\n",
    "plt.title('model loss')\n",
    "plt.ylabel('loss')\n",
    "plt.xlabel('epoch')\n",
    "plt.legend(['train', 'test'], loc='upper left')\n",
    "plt.show()"
   ],
   "metadata": {
    "collapsed": false,
    "ExecuteTime": {
     "end_time": "2024-05-14T03:25:25.103532Z",
     "start_time": "2024-05-14T03:25:24.800959Z"
    }
   },
   "id": "40b7bc2f172eefcc",
   "execution_count": 123
  },
  {
   "cell_type": "code",
   "outputs": [],
   "source": [],
   "metadata": {
    "collapsed": false
   },
   "id": "83ed21fa2673f437"
  }
 ],
 "metadata": {
  "kernelspec": {
   "display_name": "Python 3",
   "language": "python",
   "name": "python3"
  },
  "language_info": {
   "codemirror_mode": {
    "name": "ipython",
    "version": 2
   },
   "file_extension": ".py",
   "mimetype": "text/x-python",
   "name": "python",
   "nbconvert_exporter": "python",
   "pygments_lexer": "ipython2",
   "version": "2.7.6"
  }
 },
 "nbformat": 4,
 "nbformat_minor": 5
}
